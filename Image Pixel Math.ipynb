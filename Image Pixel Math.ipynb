{
 "cells": [
  {
   "cell_type": "code",
   "execution_count": 1,
   "metadata": {},
   "outputs": [],
   "source": [
    "import matplotlib.pyplot as plt\n",
    "import matplotlib.image as mpimg\n",
    "import numpy as np\n",
    "import cv2\n",
    "%matplotlib inline\n",
    "from PIL import Image\n"
   ]
  },
  {
   "cell_type": "markdown",
   "metadata": {},
   "source": [
    "Using scipy.ndimage.imread('img.jpg', mode='RGB'), the resulting array will always have this order: (H, W, D) \n",
    "i.e. (height, width, depth) because of the terminology that numpy uses for ndarrays (axis=0, axis=1, axis=2) \n",
    "or analogously (Y, X, Z) if one would like to visualize in 3 dimensions"
   ]
  },
  {
   "cell_type": "code",
   "execution_count": 2,
   "metadata": {
    "scrolled": true
   },
   "outputs": [
    {
     "name": "stdout",
     "output_type": "stream",
     "text": [
      "This a is: <class 'numpy.ndarray'> with dimensions: (2, 2, 3)\n",
      "[[[255   0   0]\n",
      "  [  0 255   0]]\n",
      "\n",
      " [[  0   0 255]\n",
      "  [255 255 255]]]\n"
     ]
    },
    {
     "data": {
      "text/plain": [
       "<matplotlib.image.AxesImage at 0x7fe477b2cef0>"
      ]
     },
     "execution_count": 2,
     "metadata": {},
     "output_type": "execute_result"
    },
    {
     "data": {
      "image/png": "[encoded data removed]",
      "text/plain": [
       "<matplotlib.figure.Figure at 0x7fe4a2f44e80>"
      ]
     },
     "metadata": {
      "needs_background": "light"
     },
     "output_type": "display_data"
    }
   ],
   "source": [
    "## Create a simple image from array. Take a simple example of 2 * 2 color image \n",
    "\n",
    "a = np.random.randint(0, 256, size=(2, 2, 3))  # 3 represents RGB channels \n",
    "a[0][0] = [255,0,0]\n",
    "a[0][1] = [0,255,0]\n",
    "a[1][0] = [0,0,255]\n",
    "a[1][1] = [255,255,255]\n",
    "\n",
    "print('This a is:', type(a), 'with dimensions:', a.shape)\n",
    "\n",
    "print(a)\n",
    "\n",
    "## Convert this array into img \n",
    "img = Image.fromarray((a * 255).astype('uint16'), mode='RGB')\n",
    "##cv2.imshow(\"image\", a);\n",
    "plt.imshow(img) \n",
    "\n"
   ]
  },
  {
   "cell_type": "code",
   "execution_count": 3,
   "metadata": {},
   "outputs": [
    {
     "name": "stdout",
     "output_type": "stream",
     "text": [
      "[255   0   0]\n",
      "[  0 255   0]\n",
      "[  0   0 255]\n",
      "[255 255 255]\n"
     ]
    }
   ],
   "source": [
    "\n",
    "print (a[0][0]) # Pixel value (RGB value) at 0th Row and 0th Column \n",
    "print (a[0][1]) # Pixel value (RGB value) at 0th Row and 1st Column \n",
    "print (a[1][0]) # Pixel value (RGB value) at 1st Row and 0th Column \n",
    "print (a[1][1]) # Pixel value (RGB value) at 1nd Row and 1st Column \n"
   ]
  },
  {
   "cell_type": "code",
   "execution_count": 4,
   "metadata": {},
   "outputs": [
    {
     "name": "stdout",
     "output_type": "stream",
     "text": [
      "[  0 255   0]\n",
      "[  0 255   0]\n",
      "[  0   0 255]\n",
      "[255 255 255]\n",
      "[[[  0 255   0]\n",
      "  [  0 255   0]]\n",
      "\n",
      " [[  0   0 255]\n",
      "  [255 255 255]]]\n"
     ]
    }
   ],
   "source": [
    "\n",
    "# It is easy to assign values to these pixels \n",
    "##a[0][0] = 0 # Assign all the channels R G B to 0 \n",
    "a[0][0] = [0,255,0] # i.e RGB values are 0,256, 0 respectively \n",
    "\n",
    "print (a[0][0]) # Pixel value (RGB value) at 0th Row and 0th Column \n",
    "print (a[0][1]) # Pixel value (RGB value) at 0th Row and 1st Column \n",
    "print (a[1][0]) # Pixel value (RGB value) at 1st Row and 0th Column \n",
    "print (a[1][1]) # Pixel value (RGB value) at 1nd Row and 1st Column \n",
    "\n",
    "## Verify that a[0][0] value has changed\n",
    "## Print a, and notice how it has printed as if it is 2 dimensional with the value () \n",
    "print (a) "
   ]
  },
  {
   "cell_type": "code",
   "execution_count": 5,
   "metadata": {},
   "outputs": [
    {
     "name": "stdout",
     "output_type": "stream",
     "text": [
      "This thresholds is: <class 'numpy.ndarray'> with dimensions: (2, 2)\n",
      "[[ True  True]\n",
      " [ True False]]\n",
      "This thresholds is: <class 'numpy.ndarray'> with dimensions: (2, 2, 3)\n",
      "[[[255 255 255]\n",
      "  [255 255 255]]\n",
      "\n",
      " [[255 255 255]\n",
      "  [255 255 255]]]\n"
     ]
    },
    {
     "data": {
      "text/plain": [
       "<matplotlib.image.AxesImage at 0x7fe4b54e73c8>"
      ]
     },
     "execution_count": 5,
     "metadata": {},
     "output_type": "execute_result"
    },
    {
     "data": {
      "image/png": "[encoded data removed]",
      "text/plain": [
       "<matplotlib.figure.Figure at 0x7fe477b286a0>"
      ]
     },
     "metadata": {
      "needs_background": "light"
     },
     "output_type": "display_data"
    }
   ],
   "source": [
    "red_threshold = 200\n",
    "green_threshold = 200\n",
    "blue_threshold = 200\n",
    "\n",
    "rgb_threshold = [red_threshold, green_threshold, blue_threshold]\n",
    "\n",
    "# Identify pixels below the threshold\n",
    "thresholds = (a[:,:,0] < rgb_threshold[0]) \\\n",
    "            | (a[:,:,1] < rgb_threshold[1]) \\\n",
    "            | (a[:,:,2] < rgb_threshold[2])\n",
    "\n",
    "print('This thresholds is:', type(thresholds), 'with dimensions:', thresholds.shape)\n",
    "print(thresholds)\n",
    "\n",
    "\n",
    "# Copy the image \n",
    "b = a.copy()\n",
    "## Apply the new values at the threshold\n",
    "# b[thresholds] = 0  ## Try changing differrent numbers \n",
    "b[thresholds] = [255,255,255] ## Try changing differrent numbers \n",
    "## Notice that the pixel values changes wherever thresholds are true\n",
    "\n",
    "## Explanation of 3 dim array and applying it with 2 dimensional array \n",
    "\n",
    "\n",
    "print('This thresholds is:', type(b), 'with dimensions:', b.shape)\n",
    "print(b)\n",
    "\n",
    "img2 = Image.fromarray((b * 255).astype('uint16'), mode='RGB')\n",
    "plt.imshow(img2) \n"
   ]
  },
  {
   "cell_type": "code",
   "execution_count": null,
   "metadata": {},
   "outputs": [],
   "source": []
  },
  {
   "cell_type": "code",
   "execution_count": null,
   "metadata": {},
   "outputs": [],
   "source": []
  }
 ],
 "metadata": {
  "kernelspec": {
   "display_name": "Python 3",
   "language": "python",
   "name": "python3"
  },
  "language_info": {
   "codemirror_mode": {
    "name": "ipython",
    "version": 3
   },
   "file_extension": ".py",
   "mimetype": "text/x-python",
   "name": "python",
   "nbconvert_exporter": "python",
   "pygments_lexer": "ipython3",
   "version": "3.5.2"
  },
  "widgets": {
   "state": {},
   "version": "1.1.2"
  }
 },
 "nbformat": 4,
 "nbformat_minor": 2
}
